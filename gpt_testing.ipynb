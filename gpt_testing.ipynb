{
 "cells": [
  {
   "cell_type": "code",
   "execution_count": 1,
   "metadata": {},
   "outputs": [],
   "source": [
    "import torch\n",
    "from all_code import GPTModel\n",
    "\n",
    "GPT_CONFIG_124M = {\n",
    "    \"vocab_size\": 150000,   # Vocabulary size\n",
    "    \"context_length\": 256, # Shortened context length (orig: 1024)\n",
    "    \"emb_dim\": 384,        # Embedding dimension\n",
    "    \"n_heads\": 6,         # Number of attention heads\n",
    "    \"n_layers\": 6,        # Number of layers\n",
    "    \"drop_rate\": 0.1,      # Dropout rate\n",
    "    \"qkv_bias\": False      # Query-key-value bias\n",
    "}\n",
    "\n",
    "device = torch.device(\"cuda\" if torch.cuda.is_available() else \"cpu\")\n",
    "torch.manual_seed(123)\n",
    "model = GPTModel(GPT_CONFIG_124M)\n",
    "model.to(device)\n",
    "model.eval();"
   ]
  },
  {
   "cell_type": "code",
   "execution_count": 3,
   "metadata": {},
   "outputs": [
    {
     "name": "stdout",
     "output_type": "stream",
     "text": [
      "Start context: ऑनलाइन क्लास में हमेशा अपने पोस्चर\n",
      "Encoded token ids: [1838, 4173, 110, 1898, 296, 29965]\n",
      "Encoded shape: torch.Size([1, 6])\n",
      "Output text:\n",
      " ऑनलाइन क्लास में हमेशा अपने पोस्चर बांकाजमीन ढिढां दिशानिर्दे भाभीभूधाफढभे हादसागांव 1110 पॉली अधूरे नुमाया वज़न\n"
     ]
    }
   ],
   "source": [
    "from all_code import generate_text_simple\n",
    "from bpe import HindiTokenizer\n",
    "\n",
    "def text_to_token_ids(text, tokenizer):\n",
    "    encoded = tokenizer.encode(text)\n",
    "    print(\"Start context:\", start_context)\n",
    "    print(\"Encoded token ids:\", encoded)\n",
    "    encoded_tensor = torch.tensor(encoded, dtype=torch.long).unsqueeze(0).to(device) #1\n",
    "    print(\"Encoded shape:\", encoded_tensor.shape)\n",
    "    return encoded_tensor\n",
    "def token_ids_to_text(token_ids, tokenizer):\n",
    "    flat = token_ids.squeeze(0)\n",
    "    return tokenizer.decode(flat.tolist())\n",
    "\n",
    "start_context = \"ऑनलाइन क्लास में हमेशा अपने पोस्चर\"\n",
    "tokenizer = HindiTokenizer()\n",
    "token_ids = generate_text_simple(\n",
    "model=model,\n",
    "idx=text_to_token_ids(start_context, tokenizer),\n",
    "max_new_tokens=10,\n",
    "context_size=GPT_CONFIG_124M[\"context_length\"]\n",
    ")\n",
    "print(\"Output text:\\n\", token_ids_to_text(token_ids, tokenizer))"
   ]
  },
  {
   "cell_type": "code",
   "execution_count": 4,
   "metadata": {},
   "outputs": [],
   "source": [
    "file_path = '/home/angkul/my_data/coding/agi/hindi_GPT/hindi.txt'\n",
    "\n",
    "with open(file_path, 'r', encoding='utf-8') as file:\n",
    "    text_data = file.read()"
   ]
  },
  {
   "cell_type": "code",
   "execution_count": 5,
   "metadata": {},
   "outputs": [
    {
     "name": "stdout",
     "output_type": "stream",
     "text": [
      "Characters: 36506\n",
      "Tokens: 7714\n"
     ]
    }
   ],
   "source": [
    "total_characters = len(text_data)\n",
    "total_tokens = len(tokenizer.encode(text_data))\n",
    "\n",
    "print(\"Characters:\", total_characters)\n",
    "print(\"Tokens:\", total_tokens)"
   ]
  },
  {
   "cell_type": "code",
   "execution_count": 6,
   "metadata": {},
   "outputs": [],
   "source": [
    "from all_code import create_dataloader\n",
    "\n",
    "total_characters = len(text_data)\n",
    "train_ratio = 0.90\n",
    "split_idx = int(train_ratio*total_characters)\n",
    "train_data = text_data[:split_idx]\n",
    "val_data = text_data[split_idx:]"
   ]
  },
  {
   "cell_type": "code",
   "execution_count": 7,
   "metadata": {},
   "outputs": [],
   "source": [
    "torch.manual_seed(32)\n",
    "\n",
    "train_loader = create_dataloader(\n",
    "    train_data,\n",
    "    batch_size=2,\n",
    "    max_length=GPT_CONFIG_124M['context_length'],\n",
    "    stride=GPT_CONFIG_124M['context_length'],\n",
    "    drop_last=True,\n",
    "    shuffle=True,\n",
    "    num_workers=0\n",
    ")\n",
    "\n",
    "val_loader = create_dataloader(\n",
    "    val_data,\n",
    "    batch_size=2,\n",
    "    max_length=GPT_CONFIG_124M['context_length'],\n",
    "    stride=GPT_CONFIG_124M['context_length'],\n",
    "    drop_last=True,\n",
    "    shuffle=True,\n",
    "    num_workers=0\n",
    ")"
   ]
  },
  {
   "cell_type": "code",
   "execution_count": 8,
   "metadata": {},
   "outputs": [
    {
     "name": "stdout",
     "output_type": "stream",
     "text": [
      "Train loader:\n",
      "torch.Size([2, 256]) torch.Size([2, 256])\n",
      "torch.Size([2, 256]) torch.Size([2, 256])\n",
      "torch.Size([2, 256]) torch.Size([2, 256])\n",
      "torch.Size([2, 256]) torch.Size([2, 256])\n",
      "torch.Size([2, 256]) torch.Size([2, 256])\n",
      "torch.Size([2, 256]) torch.Size([2, 256])\n",
      "torch.Size([2, 256]) torch.Size([2, 256])\n",
      "torch.Size([2, 256]) torch.Size([2, 256])\n",
      "torch.Size([2, 256]) torch.Size([2, 256])\n",
      "torch.Size([2, 256]) torch.Size([2, 256])\n",
      "torch.Size([2, 256]) torch.Size([2, 256])\n",
      "torch.Size([2, 256]) torch.Size([2, 256])\n",
      "torch.Size([2, 256]) torch.Size([2, 256])\n",
      "\n",
      "Validation loader:\n",
      "torch.Size([2, 256]) torch.Size([2, 256])\n"
     ]
    }
   ],
   "source": [
    "print(\"Train loader:\")\n",
    "for x, y in train_loader:\n",
    "    print(x.shape, y.shape)\n",
    "\n",
    "print(\"\\nValidation loader:\")\n",
    "for x, y in val_loader:\n",
    "    print(x.shape, y.shape)"
   ]
  },
  {
   "cell_type": "code",
   "execution_count": 9,
   "metadata": {},
   "outputs": [],
   "source": [
    "def calc_loss_batch(input_batch, target_batch, model, device):\n",
    "    input_batch, target_batch = input_batch.to(device), target_batch.to(device)\n",
    "    logits = model(input_batch)\n",
    "    loss = torch.nn.functional.cross_entropy(logits.flatten(0, 1), target_batch.flatten())\n",
    "    return loss\n",
    "    \n",
    "def calc_loss_loader(data_loader, model, device, num_batches=None):\n",
    "    total_loss = 0\n",
    "    if len(data_loader) == 0:\n",
    "        return float('nan')\n",
    "    elif num_batches is None:\n",
    "        num_batches = len(data_loader)\n",
    "    else:\n",
    "        num_batches = min(num_batches, len(data_loader))\n",
    "\n",
    "    for i, (input_batch, target_batch) in enumerate(data_loader):\n",
    "        if i < num_batches:\n",
    "            loss = calc_loss_batch(input_batch, target_batch, model, device)\n",
    "            total_loss += loss\n",
    "        else:\n",
    "            break\n",
    "\n",
    "    return total_loss/num_batches"
   ]
  },
  {
   "cell_type": "code",
   "execution_count": 10,
   "metadata": {},
   "outputs": [
    {
     "name": "stdout",
     "output_type": "stream",
     "text": [
      "Training loss: tensor(12.0842, device='cuda:0')\n",
      "Validation loss: tensor(12.0764, device='cuda:0')\n"
     ]
    }
   ],
   "source": [
    "device = torch.device(\"cuda\" if torch.cuda.is_available() else \"cpu\")\n",
    "\n",
    "model = model.to(device) # no assignment model = model.to(device) necessary for nn.Module classes\n",
    "\n",
    "\n",
    "torch.manual_seed(123) # For reproducibility due to the shuffling in the data loader\n",
    "\n",
    "with torch.no_grad(): # Disable gradient tracking for efficiency because we are not training, yet\n",
    "    train_loss = calc_loss_loader(train_loader, model, device)\n",
    "    val_loss = calc_loss_loader(val_loader, model, device)\n",
    "\n",
    "print(\"Training loss:\", train_loss)\n",
    "print(\"Validation loss:\", val_loss)"
   ]
  },
  {
   "cell_type": "code",
   "execution_count": 11,
   "metadata": {},
   "outputs": [
    {
     "name": "stdout",
     "output_type": "stream",
     "text": [
      "Mon Apr 21 04:38:19 2025       \n",
      "+-----------------------------------------------------------------------------------------+\n",
      "| NVIDIA-SMI 550.120                Driver Version: 550.120        CUDA Version: 12.4     |\n",
      "|-----------------------------------------+------------------------+----------------------+\n",
      "| GPU  Name                 Persistence-M | Bus-Id          Disp.A | Volatile Uncorr. ECC |\n",
      "| Fan  Temp   Perf          Pwr:Usage/Cap |           Memory-Usage | GPU-Util  Compute M. |\n",
      "|                                         |                        |               MIG M. |\n",
      "|=========================================+========================+======================|\n",
      "|   0  NVIDIA GeForce RTX 2050        Off |   00000000:01:00.0 Off |                  N/A |\n",
      "| N/A   60C    P0             25W /   30W |    1669MiB /   4096MiB |    100%      Default |\n",
      "|                                         |                        |                  N/A |\n",
      "+-----------------------------------------+------------------------+----------------------+\n",
      "                                                                                         \n",
      "+-----------------------------------------------------------------------------------------+\n",
      "| Processes:                                                                              |\n",
      "|  GPU   GI   CI        PID   Type   Process name                              GPU Memory |\n",
      "|        ID   ID                                                               Usage      |\n",
      "|=========================================================================================|\n",
      "|    0   N/A  N/A       983      G   /usr/lib/xorg/Xorg                            175MiB |\n",
      "|    0   N/A  N/A      1646      G   cinnamon                                       44MiB |\n",
      "|    0   N/A  N/A      3030      G   ...erProcess --variations-seed-version        130MiB |\n",
      "|    0   N/A  N/A      4733      G   /usr/lib/firefox/firefox                        6MiB |\n",
      "|    0   N/A  N/A      5181      G   ...seed-version=20250417-180112.233000         73MiB |\n",
      "|    0   N/A  N/A     12935      C   ...y_data/coding/agi/.mlenv/bin/python       1224MiB |\n",
      "+-----------------------------------------------------------------------------------------+\n"
     ]
    }
   ],
   "source": [
    "!nvidia-smi"
   ]
  },
  {
   "cell_type": "code",
   "execution_count": 12,
   "metadata": {},
   "outputs": [],
   "source": [
    "def evaluate_model(model, train_loader, val_loader, device, eval_iter):\n",
    "    model.eval()\n",
    "    with torch.no_grad():\n",
    "        train_loss = calc_loss_loader(train_loader, model, device, num_batches=eval_iter)\n",
    "        val_loss = calc_loss_loader(val_loader, model, device, num_batches=eval_iter)\n",
    "    model.train()\n",
    "    return train_loss, val_loss\n",
    "\n",
    "\n",
    "def generate_and_print_sample(model, tokenizer, device, start_context):\n",
    "    model.eval()\n",
    "    context_size = model.pos_emb.weight.shape[0]\n",
    "    encoded = text_to_token_ids(start_context, tokenizer).to(device)\n",
    "    with torch.no_grad():\n",
    "        token_ids = generate_text_simple(\n",
    "            model=model, idx=encoded,\n",
    "            max_new_tokens=50, context_size=context_size\n",
    "        )\n",
    "    decoded_text = token_ids_to_text(token_ids, tokenizer)\n",
    "    print(decoded_text.replace(\"\\n\", \" \"))  # Compact print format\n",
    "    model.train()"
   ]
  },
  {
   "cell_type": "code",
   "execution_count": 13,
   "metadata": {},
   "outputs": [],
   "source": [
    "from tqdm import tqdm\n",
    "# import gc"
   ]
  },
  {
   "cell_type": "code",
   "execution_count": 14,
   "metadata": {},
   "outputs": [],
   "source": [
    "# gc.collect()\n",
    "# torch.cuda.empty_cache()\n",
    "# torch.cuda.reset_max_memory_allocated()\n",
    "# torch.cuda.reset_peak_memory_stats()"
   ]
  },
  {
   "cell_type": "code",
   "execution_count": 15,
   "metadata": {},
   "outputs": [],
   "source": [
    "def train_model_simple(model, train_loader, val_loader, optimizer, device, num_epochs,\n",
    "                       eval_freq, eval_iter, start_context, tokenizer):\n",
    "    train_losses, val_losses, track_tokens_seen = [], [], []\n",
    "    tokens_seen, global_step = 0, -1\n",
    "\n",
    "    for epoch in tqdm(range(num_epochs)):\n",
    "        model.train()\n",
    "        for input_batch, target_batch in train_loader:\n",
    "            optimizer.zero_grad()\n",
    "            loss = calc_loss_batch(input_batch, target_batch, model, device)\n",
    "            loss.backward()\n",
    "            optimizer.step()\n",
    "            tokens_seen += input_batch.numel()\n",
    "            global_step += 1\n",
    "\n",
    "            if global_step % eval_freq == 0:\n",
    "                train_loss, val_loss = evaluate_model(\n",
    "                    model, train_loader, val_loader, device, eval_iter)\n",
    "                train_losses.append(train_loss)\n",
    "                val_losses.append(val_loss)\n",
    "                track_tokens_seen.append(tokens_seen)\n",
    "                print(f\"Ep {epoch+1} (Step {global_step:06d}): \"\n",
    "                      f\"Train loss {train_loss:.3f}, Val loss {val_loss:.3f}\")\n",
    "\n",
    "        # Print a sample text after each epoch\n",
    "        generate_and_print_sample(\n",
    "            model, tokenizer, device, start_context\n",
    "        )\n",
    "\n",
    "    return train_losses, val_losses, track_tokens_seen"
   ]
  },
  {
   "cell_type": "code",
   "execution_count": 16,
   "metadata": {},
   "outputs": [
    {
     "name": "stdout",
     "output_type": "stream",
     "text": [
      "start_context: ऑनलाइन क्लास में हमेशा अपने पोस्चर\n"
     ]
    }
   ],
   "source": [
    "print(f\"start_context: {start_context}\")"
   ]
  },
  {
   "cell_type": "code",
   "execution_count": 17,
   "metadata": {},
   "outputs": [
    {
     "name": "stdout",
     "output_type": "stream",
     "text": [
      "Token IDs: [1838, 4173, 110, 1898, 296, 29965]\n",
      "Number of tokens: 6\n"
     ]
    }
   ],
   "source": [
    "token_ids_list = tokenizer.encode(start_context)\n",
    "print(\"Token IDs:\", token_ids_list)\n",
    "print(\"Number of tokens:\", len(token_ids_list))"
   ]
  },
  {
   "cell_type": "code",
   "execution_count": 18,
   "metadata": {},
   "outputs": [
    {
     "name": "stdout",
     "output_type": "stream",
     "text": [
      "[1838]\n",
      "[4542]\n"
     ]
    }
   ],
   "source": [
    "print(tokenizer.encode(\"ऑनलाइन\"))\n",
    "print(tokenizer.encode(\"पोस्टर\"))"
   ]
  },
  {
   "cell_type": "code",
   "execution_count": 19,
   "metadata": {},
   "outputs": [
    {
     "name": "stderr",
     "output_type": "stream",
     "text": [
      "  0%|          | 0/10 [00:00<?, ?it/s]"
     ]
    },
    {
     "name": "stdout",
     "output_type": "stream",
     "text": [
      "Ep 1 (Step 000000): Train loss 11.811, Val loss 11.735\n",
      "Ep 1 (Step 000005): Train loss 10.373, Val loss 10.379\n",
      "Ep 1 (Step 000010): Train loss 9.423, Val loss 9.517\n",
      "Start context: ऑनलाइन क्लास में हमेशा अपने पोस्चर\n",
      "Encoded token ids: [1838, 4173, 110, 1898, 296, 29965]\n",
      "Encoded shape: torch.Size([1, 6])\n"
     ]
    },
    {
     "name": "stderr",
     "output_type": "stream",
     "text": [
      " 10%|█         | 1/10 [00:05<00:46,  5.16s/it]"
     ]
    },
    {
     "name": "stdout",
     "output_type": "stream",
     "text": [
      "ऑनलाइन क्लास में हमेशा अपने पोस्चर के के के के के के के के के के के के के के के के के के के के के के के के के के के के के के के के के के के के के के के के के के के के के के के के के के\n",
      "Ep 2 (Step 000015): Train loss 8.384, Val loss 8.639\n",
      "Ep 2 (Step 000020): Train loss 7.600, Val loss 7.854\n",
      "Ep 2 (Step 000025): Train loss 6.793, Val loss 7.344\n",
      "Start context: ऑनलाइन क्लास में हमेशा अपने पोस्चर\n",
      "Encoded token ids: [1838, 4173, 110, 1898, 296, 29965]\n",
      "Encoded shape: torch.Size([1, 6])\n"
     ]
    },
    {
     "name": "stderr",
     "output_type": "stream",
     "text": [
      " 20%|██        | 2/10 [00:10<00:41,  5.16s/it]"
     ]
    },
    {
     "name": "stdout",
     "output_type": "stream",
     "text": [
      "ऑनलाइन क्लास में हमेशा अपने पोस्चर है । है । है । है । है । है । के के है । है । है । के के है । के के है । है । के है । के है । के है । है । के है । के है । है । के\n",
      "Ep 3 (Step 000030): Train loss 6.400, Val loss 7.114\n",
      "Ep 3 (Step 000035): Train loss 6.233, Val loss 7.055\n",
      "Start context: ऑनलाइन क्लास में हमेशा अपने पोस्चर\n",
      "Encoded token ids: [1838, 4173, 110, 1898, 296, 29965]\n",
      "Encoded shape: torch.Size([1, 6])\n"
     ]
    },
    {
     "name": "stderr",
     "output_type": "stream",
     "text": [
      " 30%|███       | 3/10 [00:15<00:34,  4.94s/it]"
     ]
    },
    {
     "name": "stdout",
     "output_type": "stream",
     "text": [
      "ऑनलाइन क्लास में हमेशा अपने पोस्चर है । है । है । है । है । है । है । है । और है । है । के है । है । है । है । है । है । है । है । और है । है । और है । है । है ।\n",
      "Ep 4 (Step 000040): Train loss 6.010, Val loss 7.058\n",
      "Ep 4 (Step 000045): Train loss 5.960, Val loss 7.092\n",
      "Ep 4 (Step 000050): Train loss 5.860, Val loss 6.977\n",
      "Start context: ऑनलाइन क्लास में हमेशा अपने पोस्चर\n",
      "Encoded token ids: [1838, 4173, 110, 1898, 296, 29965]\n",
      "Encoded shape: torch.Size([1, 6])\n"
     ]
    },
    {
     "name": "stderr",
     "output_type": "stream",
     "text": [
      " 40%|████      | 4/10 [00:19<00:28,  4.79s/it]"
     ]
    },
    {
     "name": "stdout",
     "output_type": "stream",
     "text": [
      "ऑनलाइन क्लास में हमेशा अपने पोस्चर के लिए है । यह है । नर के लिए है । यह और है । यह है । को की के लिए के लिए है । यह है । नर के लिए है । नर । यह और को का की है । को है । को है ।\n",
      "Ep 5 (Step 000055): Train loss 5.417, Val loss 6.896\n",
      "Ep 5 (Step 000060): Train loss 5.418, Val loss 6.888\n",
      "Start context: ऑनलाइन क्लास में हमेशा अपने पोस्चर\n",
      "Encoded token ids: [1838, 4173, 110, 1898, 296, 29965]\n",
      "Encoded shape: torch.Size([1, 6])\n"
     ]
    },
    {
     "name": "stderr",
     "output_type": "stream",
     "text": [
      " 50%|█████     | 5/10 [00:23<00:22,  4.59s/it]"
     ]
    },
    {
     "name": "stdout",
     "output_type": "stream",
     "text": [
      "ऑनलाइन क्लास में हमेशा अपने पोस्चर के लिए के लिए में यह में मोर के लिए है । कर्मचारियों के लिए में मोर के लिए के लिए में हैं । कर्मचारियों के लिए में एक हैं । यह भी से एक हैं । यह भी से एक हैं । कर्मचारियों के लिए में हैं । यह\n",
      "Ep 6 (Step 000065): Train loss 5.162, Val loss 6.875\n",
      "Ep 6 (Step 000070): Train loss 5.050, Val loss 6.866\n",
      "Ep 6 (Step 000075): Train loss 4.963, Val loss 6.858\n",
      "Start context: ऑनलाइन क्लास में हमेशा अपने पोस्चर\n",
      "Encoded token ids: [1838, 4173, 110, 1898, 296, 29965]\n",
      "Encoded shape: torch.Size([1, 6])\n"
     ]
    },
    {
     "name": "stderr",
     "output_type": "stream",
     "text": [
      " 60%|██████    | 6/10 [00:28<00:19,  4.78s/it]"
     ]
    },
    {
     "name": "stdout",
     "output_type": "stream",
     "text": [
      "ऑनलाइन क्लास में हमेशा अपने पोस्चर के लिए के लिए में एक एक है । मोर के लिए में एक एक है । मोर के लिए में एक के लिए एक है । मोर के लिए में यह भी के लिए के लिए में एक और और की तरह के लिए में एक है । यह\n",
      "Ep 7 (Step 000080): Train loss 4.810, Val loss 6.830\n",
      "Ep 7 (Step 000085): Train loss 4.696, Val loss 6.834\n",
      "Ep 7 (Step 000090): Train loss 4.382, Val loss 6.835\n",
      "Start context: ऑनलाइन क्लास में हमेशा अपने पोस्चर\n",
      "Encoded token ids: [1838, 4173, 110, 1898, 296, 29965]\n",
      "Encoded shape: torch.Size([1, 6])\n"
     ]
    },
    {
     "name": "stderr",
     "output_type": "stream",
     "text": [
      " 70%|███████   | 7/10 [00:34<00:14,  4.94s/it]"
     ]
    },
    {
     "name": "stdout",
     "output_type": "stream",
     "text": [
      "ऑनलाइन क्लास में हमेशा अपने पोस्चर के लिए नेतृत्व के लिए है । इस प्रकार के लिए है । यह भी होते हैं । और को में भी के लिए नेतृत्व के लिए में एक और कार्य के लिए और और कर्मचारी की तरह एक और और अपने कार्य के लिए में एक है । यह\n",
      "Ep 8 (Step 000095): Train loss 4.277, Val loss 6.831\n",
      "Ep 8 (Step 000100): Train loss 4.200, Val loss 6.842\n",
      "Start context: ऑनलाइन क्लास में हमेशा अपने पोस्चर\n",
      "Encoded token ids: [1838, 4173, 110, 1898, 296, 29965]\n",
      "Encoded shape: torch.Size([1, 6])\n"
     ]
    },
    {
     "name": "stderr",
     "output_type": "stream",
     "text": [
      " 80%|████████  | 8/10 [00:39<00:09,  4.94s/it]"
     ]
    },
    {
     "name": "stdout",
     "output_type": "stream",
     "text": [
      "ऑनलाइन क्लास में हमेशा अपने पोस्चर के लिए नेतृत्व की तरह की तरह एक और कर्मचारियों को के लिए एक और कर्मचारियों के लिए और के लिए भी के लिए नेतृत्व के लिए एक एक बड़ा में यह आवश्यक है और कर्मचारी की तरह एक और और अपने कार्य के लिए होता है । यह भी\n",
      "Ep 9 (Step 000105): Train loss 3.823, Val loss 6.820\n",
      "Ep 9 (Step 000110): Train loss 3.725, Val loss 6.869\n",
      "Ep 9 (Step 000115): Train loss 3.464, Val loss 6.873\n",
      "Start context: ऑनलाइन क्लास में हमेशा अपने पोस्चर\n",
      "Encoded token ids: [1838, 4173, 110, 1898, 296, 29965]\n",
      "Encoded shape: torch.Size([1, 6])\n"
     ]
    },
    {
     "name": "stderr",
     "output_type": "stream",
     "text": [
      " 90%|█████████ | 9/10 [00:44<00:05,  5.06s/it]"
     ]
    },
    {
     "name": "stdout",
     "output_type": "stream",
     "text": [
      "ऑनलाइन क्लास में हमेशा अपने पोस्चर के लिए नेतृत्व के लिए है । इस प्रकार के लिए है कि वह है कि वह है । कर्मचारियों से में मोर के लिए कर्मचारियों को एक एक को इस प्रकार से अपने के साथ में यह आवश्यक है । मोर को नेता को चाहिए कि वह अपने कार्य\n",
      "Ep 10 (Step 000120): Train loss 3.407, Val loss 6.877\n",
      "Ep 10 (Step 000125): Train loss 3.102, Val loss 6.900\n",
      "Start context: ऑनलाइन क्लास में हमेशा अपने पोस्चर\n",
      "Encoded token ids: [1838, 4173, 110, 1898, 296, 29965]\n",
      "Encoded shape: torch.Size([1, 6])\n"
     ]
    },
    {
     "name": "stderr",
     "output_type": "stream",
     "text": [
      "100%|██████████| 10/10 [00:49<00:00,  4.94s/it]"
     ]
    },
    {
     "name": "stdout",
     "output_type": "stream",
     "text": [
      "ऑनलाइन क्लास में हमेशा अपने पोस्चर के लिए नेतृत्व के लिए यह है । कर्मचारियों को इस प्रकार के लिए नेतृत्व की तरह से में ही में है । इससे कर्मचारी पर ही में एक है । यह है है और कर्मचारी की तरह एक है । कर्मचारियों को नेता को चाहिए कि वह अपने कार्य\n"
     ]
    },
    {
     "name": "stderr",
     "output_type": "stream",
     "text": [
      "\n"
     ]
    }
   ],
   "source": [
    "torch.manual_seed(123)\n",
    "model = GPTModel(GPT_CONFIG_124M)\n",
    "model.to(device)\n",
    "optimizer = torch.optim.AdamW(model.parameters(), lr=0.0004, weight_decay=0.1)\n",
    "\n",
    "num_epochs = 10\n",
    "train_losses, val_losses, tokens_seen = train_model_simple(\n",
    "    model, train_loader, val_loader, optimizer, device,\n",
    "    num_epochs=num_epochs, eval_freq=5, eval_iter=5,\n",
    "    start_context=\"ऑनलाइन क्लास में हमेशा अपने पोस्चर\", tokenizer=tokenizer\n",
    ")"
   ]
  },
  {
   "cell_type": "code",
   "execution_count": 20,
   "metadata": {},
   "outputs": [],
   "source": [
    "def to_cpu_numpy(x):\n",
    "    if torch.is_tensor(x):\n",
    "        return x.detach().cpu().numpy()\n",
    "    return x"
   ]
  },
  {
   "cell_type": "code",
   "execution_count": null,
   "metadata": {},
   "outputs": [
    {
     "data": {
      "image/png": "[encoded data removed]",
      "text/plain": [
       "<Figure size 500x300 with 2 Axes>"
      ]
     },
     "metadata": {},
     "output_type": "display_data"
    }
   ],
   "source": [
    "import matplotlib.pyplot as plt\n",
    "from matplotlib.ticker import MaxNLocator\n",
    "\n",
    "def plot_losses(epochs_seen, tokens_seen, train_losses, val_losses):\n",
    "    fig, ax1 = plt.subplots(figsize=(5, 3))\n",
    "    ax1.plot(epochs_seen, train_losses, label=\"Training loss\")\n",
    "    ax1.plot(epochs_seen, val_losses, linestyle=\"-.\", label=\"Validation loss\")\n",
    "    ax1.set_xlabel(\"Epochs\")\n",
    "    ax1.set_ylabel(\"Loss\")\n",
    "    ax1.legend(loc=\"upper right\")\n",
    "    ax1.xaxis.set_major_locator(MaxNLocator(integer=True))\n",
    "\n",
    "    ax2 = ax1.twiny()\n",
    "    ax2.plot(tokens_seen, train_losses, alpha=0)\n",
    "    ax2.set_xlabel(\"Tokens seen\")\n",
    "\n",
    "    fig.tight_layout()\n",
    "    plt.show()\n",
    "\n",
    "epochs_tensor = torch.linspace(0, num_epochs, len(train_losses))\n",
    "plot_losses(\n",
    "    epochs_tensor.cpu(),\n",
    "    tokens_seen,\n",
    "    [loss.item() for loss in train_losses],\n",
    "    [loss.item() for loss in val_losses]\n",
    ")"
   ]
  },
  {
   "cell_type": "code",
   "execution_count": null,
   "metadata": {},
   "outputs": [
    {
     "name": "stdout",
     "output_type": "stream",
     "text": [
      "Start context: ऑनलाइन क्लास में हमेशा अपने पोस्चर\n",
      "Encoded token ids: [1838, 4173, 110, 1898, 296, 29965]\n",
      "Encoded shape: torch.Size([1, 6])\n",
      "Output text:\n",
      " ऑनलाइन क्लास में हमेशा अपने पोस्चर के लिए नेतृत्व के लिए यह है । कर्मचारियों को इस प्रकार के लिए नेतृत्व की तरह से में ही में है । इससे कर्मचारी\n"
     ]
    }
   ],
   "source": [
    "model.to(\"cuda\")\n",
    "model.eval()\n",
    "\n",
    "token_ids = generate_text_simple(\n",
    "    model=model,\n",
    "    idx=text_to_token_ids(\"ऑनलाइन क्लास में हमेशा अपने पोस्चर\", tokenizer),\n",
    "    max_new_tokens=25,\n",
    "    context_size=GPT_CONFIG_124M[\"context_length\"]\n",
    ")\n",
    "\n",
    "print(\"Output text:\\n\", token_ids_to_text(token_ids, tokenizer))"
   ]
  },
  {
   "cell_type": "code",
   "execution_count": null,
   "metadata": {},
   "outputs": [],
   "source": [
    "def generate(model, idx, max_new_tokens, context_size, temperature=0.0, top_k=None, eos_id=None):\n",
    "\n",
    "    for _ in range(max_new_tokens):\n",
    "        idx_cond = idx[:, -context_size:]\n",
    "        with torch.no_grad():\n",
    "            logits = model(idx_cond)\n",
    "        logits = logits[:, -1, :]\n",
    "\n",
    "        if top_k is not None:\n",
    "            top_logits, _ = torch.topk(logits, top_k)\n",
    "            min_val = top_logits[:, -1]\n",
    "            logits = torch.where(logits < min_val, torch.tensor(float(\"-inf\")).to(logits.device), logits)\n",
    "\n",
    "        if temperature > 0.0:\n",
    "            logits = logits / temperature\n",
    "\n",
    "            probs = torch.softmax(logits, dim=-1)  \n",
    "\n",
    "            idx_next = torch.multinomial(probs, num_samples=1)\n",
    "\n",
    "        \n",
    "        else:\n",
    "            idx_next = torch.argmax(logits, dim=-1, keepdim=True)\n",
    "\n",
    "        if idx_next == eos_id:\n",
    "            break\n",
    "\n",
    "        idx = torch.cat((idx, idx_next), dim=1)\n",
    "\n",
    "    return idx"
   ]
  },
  {
   "cell_type": "code",
   "execution_count": 28,
   "metadata": {},
   "outputs": [
    {
     "name": "stdout",
     "output_type": "stream",
     "text": [
      "Start context: ऑनलाइन क्लास में हमेशा अपने पोस्चर\n",
      "Encoded token ids: [1838, 4173, 110, 1898, 296, 29965]\n",
      "Encoded shape: torch.Size([1, 6])\n",
      "Output text:\n",
      " ऑनलाइन क्लास में हमेशा अपने पोस्चर के लिए कर्मचारी और जो समय के लिए कर्मचारियों को और बाद से हैं ।\n"
     ]
    }
   ],
   "source": [
    "torch.manual_seed(123)\n",
    "\n",
    "token_ids = generate(\n",
    "    model=model,\n",
    "    idx=text_to_token_ids(\"ऑनलाइन क्लास में हमेशा अपने पोस्चर\", tokenizer),\n",
    "    max_new_tokens=15,\n",
    "    context_size=GPT_CONFIG_124M[\"context_length\"],\n",
    "    top_k=25,\n",
    "    temperature=1.4\n",
    ")\n",
    "\n",
    "print(\"Output text:\\n\", token_ids_to_text(token_ids, tokenizer))"
   ]
  },
  {
   "cell_type": "code",
   "execution_count": null,
   "metadata": {},
   "outputs": [],
   "source": []
  }
 ],
 "metadata": {
  "kernelspec": {
   "display_name": ".mlenv",
   "language": "python",
   "name": "python3"
  },
  "language_info": {
   "codemirror_mode": {
    "name": "ipython",
    "version": 3
   },
   "file_extension": ".py",
   "mimetype": "text/x-python",
   "name": "python",
   "nbconvert_exporter": "python",
   "pygments_lexer": "ipython3",
   "version": "3.10.12"
  }
 },
 "nbformat": 4,
 "nbformat_minor": 2
}
